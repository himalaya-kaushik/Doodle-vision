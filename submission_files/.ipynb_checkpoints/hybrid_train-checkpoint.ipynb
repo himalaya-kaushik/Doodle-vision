{
 "cells": [
  {
   "cell_type": "code",
   "execution_count": null,
   "metadata": {
    "colab": {
     "base_uri": "https://localhost:8080/"
    },
    "id": "gPtJf03LVcaz",
    "outputId": "e43742a8-bc28-4891-e5c4-1b0755f4856e"
   },
   "outputs": [
    {
     "name": "stdout",
     "output_type": "stream",
     "text": [
      "Files to download: ['https://storage.googleapis.com/quickdraw_dataset/full/numpy_bitmap/backpack.npy', 'https://storage.googleapis.com/quickdraw_dataset/full/numpy_bitmap/banana.npy', 'https://storage.googleapis.com/quickdraw_dataset/full/numpy_bitmap/bat.npy', 'https://storage.googleapis.com/quickdraw_dataset/full/numpy_bitmap/beard.npy', 'https://storage.googleapis.com/quickdraw_dataset/full/numpy_bitmap/bicycle.npy', 'https://storage.googleapis.com/quickdraw_dataset/full/numpy_bitmap/bird.npy', 'https://storage.googleapis.com/quickdraw_dataset/full/numpy_bitmap/book.npy', 'https://storage.googleapis.com/quickdraw_dataset/full/numpy_bitmap/bread.npy', 'https://storage.googleapis.com/quickdraw_dataset/full/numpy_bitmap/bridge.npy', 'https://storage.googleapis.com/quickdraw_dataset/full/numpy_bitmap/bucket.npy', 'https://storage.googleapis.com/quickdraw_dataset/full/numpy_bitmap/bush.npy', 'https://storage.googleapis.com/quickdraw_dataset/full/numpy_bitmap/butterfly.npy', 'https://storage.googleapis.com/quickdraw_dataset/full/numpy_bitmap/cactus.npy', 'https://storage.googleapis.com/quickdraw_dataset/full/numpy_bitmap/camel.npy', 'https://storage.googleapis.com/quickdraw_dataset/full/numpy_bitmap/camera.npy', 'https://storage.googleapis.com/quickdraw_dataset/full/numpy_bitmap/candle.npy', 'https://storage.googleapis.com/quickdraw_dataset/full/numpy_bitmap/cow.npy', 'https://storage.googleapis.com/quickdraw_dataset/full/numpy_bitmap/crab.npy', 'https://storage.googleapis.com/quickdraw_dataset/full/numpy_bitmap/crown.npy', 'https://storage.googleapis.com/quickdraw_dataset/full/numpy_bitmap/cup.npy', 'https://storage.googleapis.com/quickdraw_dataset/full/numpy_bitmap/donut.npy', 'https://storage.googleapis.com/quickdraw_dataset/full/numpy_bitmap/dumbbell.npy', 'https://storage.googleapis.com/quickdraw_dataset/full/numpy_bitmap/elbow.npy', 'https://storage.googleapis.com/quickdraw_dataset/full/numpy_bitmap/eye.npy', 'https://storage.googleapis.com/quickdraw_dataset/full/numpy_bitmap/fish.npy', 'https://storage.googleapis.com/quickdraw_dataset/full/numpy_bitmap/flashlight.npy', 'https://storage.googleapis.com/quickdraw_dataset/full/numpy_bitmap/flip flops.npy', 'https://storage.googleapis.com/quickdraw_dataset/full/numpy_bitmap/foot.npy', 'https://storage.googleapis.com/quickdraw_dataset/full/numpy_bitmap/hat.npy', 'https://storage.googleapis.com/quickdraw_dataset/full/numpy_bitmap/helicopter.npy', 'https://storage.googleapis.com/quickdraw_dataset/full/numpy_bitmap/leaf.npy', 'https://storage.googleapis.com/quickdraw_dataset/full/numpy_bitmap/leg.npy', 'https://storage.googleapis.com/quickdraw_dataset/full/numpy_bitmap/light bulb.npy', 'https://storage.googleapis.com/quickdraw_dataset/full/numpy_bitmap/lightning.npy', 'https://storage.googleapis.com/quickdraw_dataset/full/numpy_bitmap/motorbike.npy', 'https://storage.googleapis.com/quickdraw_dataset/full/numpy_bitmap/mouth.npy', 'https://storage.googleapis.com/quickdraw_dataset/full/numpy_bitmap/nail.npy', 'https://storage.googleapis.com/quickdraw_dataset/full/numpy_bitmap/pencil.npy', 'https://storage.googleapis.com/quickdraw_dataset/full/numpy_bitmap/pillow.npy', 'https://storage.googleapis.com/quickdraw_dataset/full/numpy_bitmap/river.npy', 'https://storage.googleapis.com/quickdraw_dataset/full/numpy_bitmap/school bus.npy', 'https://storage.googleapis.com/quickdraw_dataset/full/numpy_bitmap/sock.npy', 'https://storage.googleapis.com/quickdraw_dataset/full/numpy_bitmap/spoon.npy', 'https://storage.googleapis.com/quickdraw_dataset/full/numpy_bitmap/table.npy', 'https://storage.googleapis.com/quickdraw_dataset/full/numpy_bitmap/telephone.npy', 'https://storage.googleapis.com/quickdraw_dataset/full/numpy_bitmap/tooth.npy', 'https://storage.googleapis.com/quickdraw_dataset/full/numpy_bitmap/tree.npy', 'https://storage.googleapis.com/quickdraw_dataset/full/numpy_bitmap/umbrella.npy']\n"
     ]
    }
   ],
   "source": [
    "# image download\n",
    "import xml.etree.ElementTree as ET\n",
    "import requests\n",
    "import os\n",
    "import concurrent.futures\n",
    "\n",
    "\n",
    "\n",
    "def fetch_xml(xml_url):\n",
    "    response = requests.get(xml_url)\n",
    "    if response.status_code != 200:\n",
    "        return None\n",
    "    return response.content\n",
    "\n",
    "def parse_xml(xml_content, selected_files):\n",
    "    root = ET.fromstring(xml_content)\n",
    "    namespace = {'s3': 'http://doc.s3.amazonaws.com/2006-03-01'}\n",
    "    base_url = \"https://storage.googleapis.com/quickdraw_dataset/\"\n",
    "\n",
    "    file_urls = []\n",
    "    for content in root.findall(\".//s3:Contents\", namespace):\n",
    "        key = content.find(\"s3:Key\", namespace).text\n",
    "        file_name = os.path.basename(key)\n",
    "        if file_name in selected_files:\n",
    "            file_urls.append(base_url + key)\n",
    "    return file_urls\n",
    "\n",
    "def download_file(file_url, download_folder):\n",
    "    file_path = os.path.join(download_folder, os.path.basename(file_url))\n",
    "    if os.path.exists(file_path):\n",
    "        return\n",
    "    response = requests.get(file_url)\n",
    "    if response.status_code == 200:\n",
    "        with open(file_path, \"wb\") as f:\n",
    "            f.write(response.content)\n",
    "\n",
    "def download_npz_files(xml_url, download_folder, selected_files):\n",
    "    if not os.path.exists(download_folder):\n",
    "        os.makedirs(download_folder)\n",
    "\n",
    "    xml_content = fetch_xml(xml_url)\n",
    "    if xml_content is None:\n",
    "        print(\"Failed to fetch XML.\")\n",
    "        return\n",
    "\n",
    "    file_urls = parse_xml(xml_content, selected_files)\n",
    "    print(\"Files to download:\", file_urls)\n",
    "\n",
    "    with concurrent.futures.ThreadPoolExecutor(max_workers=10) as executor:\n",
    "        executor.map(lambda url: download_file(url, download_folder), file_urls)\n",
    "\n",
    "xml_url = \"https://storage.googleapis.com/quickdraw_dataset/\"\n",
    "download_folder = \"image_folder\"\n",
    "download_npz_files(xml_url, download_folder, selected_classes)\n"
   ]
  },
  {
   "cell_type": "code",
   "execution_count": null,
   "metadata": {
    "colab": {
     "base_uri": "https://localhost:8080/"
    },
    "collapsed": true,
    "id": "GspfnjFTVt6l",
    "jupyter": {
     "outputs_hidden": true
    },
    "outputId": "6ed985fb-c444-457d-f265-2785a8d06276"
   },
   "outputs": [
    {
     "name": "stdout",
     "output_type": "stream",
     "text": [
      "Downloading: https://storage.googleapis.com/quickdraw_dataset/sketchrnn/backpack.npzDownloading: https://storage.googleapis.com/quickdraw_dataset/sketchrnn/banana.npz\n",
      "\n",
      "Downloading: https://storage.googleapis.com/quickdraw_dataset/sketchrnn/bat.npz\n",
      "Downloading: https://storage.googleapis.com/quickdraw_dataset/sketchrnn/beard.npz\n",
      "Downloading: https://storage.googleapis.com/quickdraw_dataset/sketchrnn/bicycle.npz\n",
      "Downloading: https://storage.googleapis.com/quickdraw_dataset/sketchrnn/bird.npz\n",
      "Downloading: https://storage.googleapis.com/quickdraw_dataset/sketchrnn/bread.npz\n",
      "Downloading: https://storage.googleapis.com/quickdraw_dataset/sketchrnn/book.npz\n",
      "Downloading: https://storage.googleapis.com/quickdraw_dataset/sketchrnn/bridge.npz\n",
      "Downloading: https://storage.googleapis.com/quickdraw_dataset/sketchrnn/bucket.npz\n",
      "Downloading: https://storage.googleapis.com/quickdraw_dataset/sketchrnn/bush.npz\n",
      "Downloading: https://storage.googleapis.com/quickdraw_dataset/sketchrnn/butterfly.npz\n",
      "Downloading: https://storage.googleapis.com/quickdraw_dataset/sketchrnn/cactus.npz\n",
      "Downloading: https://storage.googleapis.com/quickdraw_dataset/sketchrnn/camel.npz\n",
      "Downloading: https://storage.googleapis.com/quickdraw_dataset/sketchrnn/camera.npz\n",
      "Downloading: https://storage.googleapis.com/quickdraw_dataset/sketchrnn/candle.npz\n",
      "Downloading: https://storage.googleapis.com/quickdraw_dataset/sketchrnn/cow.npz\n",
      "Downloading: https://storage.googleapis.com/quickdraw_dataset/sketchrnn/crab.npz\n",
      "Downloading: https://storage.googleapis.com/quickdraw_dataset/sketchrnn/crown.npz\n",
      "Downloading: https://storage.googleapis.com/quickdraw_dataset/sketchrnn/cup.npz\n",
      "Downloading: https://storage.googleapis.com/quickdraw_dataset/sketchrnn/donut.npz\n",
      "Downloading: https://storage.googleapis.com/quickdraw_dataset/sketchrnn/dumbbell.npz\n",
      "Downloading: https://storage.googleapis.com/quickdraw_dataset/sketchrnn/elbow.npz\n",
      "Downloading: https://storage.googleapis.com/quickdraw_dataset/sketchrnn/eye.npz\n",
      "Downloading: https://storage.googleapis.com/quickdraw_dataset/sketchrnn/fish.npz\n",
      "Downloading: https://storage.googleapis.com/quickdraw_dataset/sketchrnn/flashlight.npz\n",
      "Downloading: https://storage.googleapis.com/quickdraw_dataset/sketchrnn/flip flops.npz\n",
      "Downloading: https://storage.googleapis.com/quickdraw_dataset/sketchrnn/flower.npz\n",
      "Downloading: https://storage.googleapis.com/quickdraw_dataset/sketchrnn/foot.npz\n",
      "Downloading: https://storage.googleapis.com/quickdraw_dataset/sketchrnn/hat.npz\n",
      "Downloading: https://storage.googleapis.com/quickdraw_dataset/sketchrnn/helicopter.npz\n",
      "Downloading: https://storage.googleapis.com/quickdraw_dataset/sketchrnn/hot air balloon.npz\n",
      "Downloading: https://storage.googleapis.com/quickdraw_dataset/sketchrnn/leaf.npz\n",
      "Downloading: https://storage.googleapis.com/quickdraw_dataset/sketchrnn/leg.npz\n",
      "Downloading: https://storage.googleapis.com/quickdraw_dataset/sketchrnn/light bulb.npz\n",
      "Downloading: https://storage.googleapis.com/quickdraw_dataset/sketchrnn/lightning.npz\n",
      "Downloading: https://storage.googleapis.com/quickdraw_dataset/sketchrnn/motorbike.npz\n",
      "Downloading: https://storage.googleapis.com/quickdraw_dataset/sketchrnn/mouth.npz\n",
      "Downloading: https://storage.googleapis.com/quickdraw_dataset/sketchrnn/nail.npz\n",
      "Downloading: https://storage.googleapis.com/quickdraw_dataset/sketchrnn/pencil.npz\n",
      "Downloading: https://storage.googleapis.com/quickdraw_dataset/sketchrnn/pillow.npz\n",
      "Downloading: https://storage.googleapis.com/quickdraw_dataset/sketchrnn/river.npz\n",
      "Downloading: https://storage.googleapis.com/quickdraw_dataset/sketchrnn/school bus.npz\n",
      "Downloading: https://storage.googleapis.com/quickdraw_dataset/sketchrnn/sock.npz\n",
      "Downloading: https://storage.googleapis.com/quickdraw_dataset/sketchrnn/spoon.npz\n",
      "Downloading: https://storage.googleapis.com/quickdraw_dataset/sketchrnn/table.npz\n",
      "Downloading: https://storage.googleapis.com/quickdraw_dataset/sketchrnn/telephone.npz\n",
      "Downloading: https://storage.googleapis.com/quickdraw_dataset/sketchrnn/tooth.npz\n",
      "Downloading: https://storage.googleapis.com/quickdraw_dataset/sketchrnn/tree.npz\n",
      "Downloading: https://storage.googleapis.com/quickdraw_dataset/sketchrnn/umbrella.npz\n"
     ]
    }
   ],
   "source": [
    "#storokes download\n",
    "import xml.etree.ElementTree as ET\n",
    "import requests\n",
    "import os\n",
    "import concurrent.futures\n",
    "\n",
    "\n",
    "def fetch_xml(xml_url):\n",
    "    response = requests.get(xml_url)\n",
    "    if response.status_code != 200:\n",
    "        print(f\"Failed to fetch XML: {response.status_code}\")\n",
    "        return None\n",
    "    return response.content\n",
    "\n",
    "def parse_xml(xml_content, selected_files):\n",
    "    root = ET.fromstring(xml_content)\n",
    "    namespace = {'s3': 'http://doc.s3.amazonaws.com/2006-03-01'}\n",
    "    base_url = \"https://storage.googleapis.com/quickdraw_dataset/\"\n",
    "\n",
    "    file_urls = []\n",
    "    for content in root.findall(\".//s3:Contents\", namespace):\n",
    "        key = content.find(\"s3:Key\", namespace).text\n",
    "        file_name = os.path.basename(key)\n",
    "        if key.startswith(\"sketchrnn/\") and file_name in selected_files:\n",
    "            file_urls.append(base_url + key)\n",
    "    return file_urls\n",
    "\n",
    "def download_file(file_url, download_folder):\n",
    "    file_path = os.path.join(download_folder, os.path.basename(file_url))\n",
    "    if os.path.exists(file_path):\n",
    "        print(f\"Already exists: {file_path}\")\n",
    "        return\n",
    "\n",
    "    print(f\"Downloading: {file_url}\")\n",
    "    response = requests.get(file_url)\n",
    "    if response.status_code == 200:\n",
    "        with open(file_path, \"wb\") as f:\n",
    "            f.write(response.content)\n",
    "    else:\n",
    "        print(f\"Failed to download: {file_url}\")\n",
    "\n",
    "def download_npz_files(xml_url, download_folder, selected_files):\n",
    "    if not os.path.exists(download_folder):\n",
    "        os.makedirs(download_folder)\n",
    "\n",
    "    xml_content = fetch_xml(xml_url)\n",
    "    if xml_content is None:\n",
    "        return\n",
    "\n",
    "    file_urls = parse_xml(xml_content, selected_files)\n",
    "\n",
    "    with concurrent.futures.ThreadPoolExecutor(max_workers=10) as executor:\n",
    "        executor.map(lambda url: download_file(url, download_folder), file_urls)\n",
    "\n",
    "# Run the downloader\n",
    "xml_url = \"https://storage.googleapis.com/quickdraw_dataset?prefix=sketchrnn/\"\n",
    "download_folder = \"strokes_data\"\n",
    "download_npz_files(xml_url, download_folder, selected_classes)\n"
   ]
  },
  {
   "cell_type": "code",
   "execution_count": null,
   "metadata": {
    "id": "5s2A13cOWe_q"
   },
   "outputs": [],
   "source": [
    "# all import necesary\n",
    "import os\n",
    "import numpy as np\n",
    "from tensorflow.keras.utils import to_categorical\n",
    "from sklearn.utils import shuffle\n",
    "import tensorflow as tf\n",
    "from tensorflow.keras.layers import (\n",
    "    Input, LSTM, Conv2D, MaxPooling2D,\n",
    "    Flatten, Dense, Dropout, Concatenate\n",
    ")\n",
    "from tensorflow.keras.models import Model\n",
    "from tensorflow.keras.callbacks import (\n",
    "    ModelCheckpoint, EarlyStopping\n",
    ")\n",
    "\n",
    "MAX_SEQ_LEN        = 130\n",
    "STROKE_FEATURES    = 3\n",
    "IMG_HEIGHT, IMG_WIDTH = 28, 28\n",
    "IMG_CHANNELS       = 1\n",
    "NUM_CLASSES        = None\n",
    "SAMPLES_PER_CLASS  = 50000\n",
    "DATA_DIR_STROKES   = 'strokes_data'\n",
    "DATA_DIR_IMAGES    = 'image_folder'\n",
    "VALIDATION_SPLIT   = 0.1\n",
    "BATCH_SIZE         = 128\n",
    "EPOCHS             = 15\n"
   ]
  },
  {
   "cell_type": "code",
   "execution_count": null,
   "metadata": {
    "id": "Q6hnfg__YcnE"
   },
   "outputs": [],
   "source": [
    "def preprocess_stroke(stroke, max_len=MAX_SEQ_LEN):\n",
    "    stroke = stroke.astype(np.float32)\n",
    "    stroke[:,0] = np.cumsum(stroke[:,0])  # make x like absolute from delta\n",
    "    stroke[:,1] = np.cumsum(stroke[:,1])  # same do for y also\n",
    "    stroke[:,0] -= stroke[:,0].mean()     # center x to 0\n",
    "    stroke[:,1] -= stroke[:,1].mean()     # center y to 0 again\n",
    "    if len(stroke) > max_len:\n",
    "        return stroke[:max_len]           # if too long, cut itt\n",
    "    pad = np.zeros((max_len - len(stroke), STROKE_FEATURES), dtype=np.float32)\n",
    "    return np.vstack([stroke, pad])       # else just fill with zero\n",
    "\n",
    "def load_hybrid_data(N=SAMPLES_PER_CLASS):\n",
    "    img_files_full    = sorted(f for f in os.listdir(DATA_DIR_IMAGES)   if f.endswith('.npy'))\n",
    "    stroke_files_full = sorted(f for f in os.listdir(DATA_DIR_STROKES)  if f.endswith('.npz'))\n",
    "    img_names    = {os.path.splitext(f)[0] for f in img_files_full}\n",
    "    stroke_names = {os.path.splitext(f)[0] for f in stroke_files_full}\n",
    "    common       = sorted(img_names & stroke_names)[:NUM_CLASSES]\n",
    "\n",
    "    X_img_list, X_str_list, y_list = [], [], []\n",
    "    for idx, cls in enumerate(common):\n",
    "        img_arr = np.load(\n",
    "            os.path.join(DATA_DIR_IMAGES, f\"{cls}.npy\"),\n",
    "            allow_pickle=True, encoding='latin1'\n",
    "        )[:N]\n",
    "        img_arr = img_arr.reshape(-1, IMG_HEIGHT, IMG_WIDTH, IMG_CHANNELS).astype('float32')/255.\n",
    "        X_img_list.append(img_arr)\n",
    "\n",
    "        data = np.load(\n",
    "            os.path.join(DATA_DIR_STROKES, f\"{cls}.npz\"),\n",
    "            allow_pickle=True, encoding='latin1'\n",
    "        )\n",
    "        strokes = data['train'][:N]\n",
    "        proc = np.stack([preprocess_stroke(s) for s in strokes], axis=0)\n",
    "        X_str_list.append(proc)\n",
    "\n",
    "        y_list.append(np.full((N,), idx, dtype=np.int32))  #  putting labels same for each class\n",
    "\n",
    "    X_img = np.concatenate(X_img_list, axis=0)\n",
    "    X_str = np.concatenate(X_str_list, axis=0)\n",
    "    y     = np.concatenate(y_list, axis=0)\n",
    "    X_img, X_str, y = shuffle(X_img, X_str, y, random_state=42)  #  mix everything randomly\n",
    "\n",
    "    true_num_classes = len(common)\n",
    "    y_cat = to_categorical(y, num_classes=true_num_classes)\n",
    "    return (X_str, X_img), y_cat\n"
   ]
  },
  {
   "cell_type": "code",
   "execution_count": null,
   "metadata": {
    "id": "YL-MHWooYjUU"
   },
   "outputs": [],
   "source": [
    "from tensorflow.keras.layers import Bidirectional, Input, LSTM, Conv2D, MaxPooling2D, Flatten, Dense, Dropout, Concatenate\n",
    "from tensorflow.keras.models import Model\n",
    "\n",
    "def build_hybrid_model():\n",
    "    # Stroke input branch: captures temporal dependency of pen stokes using  Bidirectional LSTMs\n",
    "    inp_str = Input(shape=(MAX_SEQ_LEN, STROKE_FEATURES), name='stroke_input')\n",
    "    x = Bidirectional(LSTM(128, return_sequences=True))(inp_str)\n",
    "    x = Bidirectional(LSTM(64))(x)\n",
    "    x = Dense(64, activation='relu')(x)  # Dense layer to compact learned stroke features\n",
    "\n",
    "    # Image input branch: processes sketch image using a CNN to extract spatial patterns\n",
    "    inp_img = Input(shape=(IMG_HEIGHT, IMG_WIDTH, IMG_CHANNELS), name='image_input')\n",
    "    y = Conv2D(32, 3, activation='relu', padding='same')(inp_img)\n",
    "    y = MaxPooling2D()(y)\n",
    "    y = Conv2D(64, 3, activation='relu', padding='same')(y)\n",
    "    y = MaxPooling2D()(y)\n",
    "    y = Conv2D(128, 3, activation='relu', padding='same')(y)\n",
    "    y = MaxPooling2D()(y)\n",
    "    y = Flatten()(y)\n",
    "    y = Dense(128, activation='relu')(y)\n",
    "\n",
    "    # Feature fsion: concatenate outputs from stroke and image branches\n",
    "    merged = Concatenate()([x, y])\n",
    "    merged = Dropout(0.5)(merged)  # dropout\n",
    "    merged = Dense(128, activation='relu')(merged)\n",
    "    out    = Dense(NUM_CLASSES, activation='softmax')(merged)\n",
    "\n",
    "    return Model(inputs=[inp_str, inp_img], outputs=out, name='hybrid_model')\n"
   ]
  },
  {
   "cell_type": "code",
   "execution_count": null,
   "metadata": {
    "id": "r5qFEH5ZYozQ"
   },
   "outputs": [],
   "source": [
    "# load data\n",
    " (X_str, X_img), y = load_hybrid_data(N=SAMPLES_PER_CLASS)\n",
    "NUM_CLASSES = y.shape[1]\n",
    "total = X_img.shape[0]\n",
    "split = int((1 - VALIDATION_SPLIT) * total)\n",
    "\n",
    "# trian test split\n",
    "X_str_train, X_str_val = X_str[:split], X_str[split:]\n",
    "X_img_train, X_img_val = X_img[:split], X_img[split:]\n",
    "y_train,     y_val     = y[:split],    y[split:]\n"
   ]
  },
  {
   "cell_type": "code",
   "execution_count": null,
   "metadata": {
    "colab": {
     "base_uri": "https://localhost:8080/",
     "height": 1000
    },
    "id": "p7uf8KkIYrUx",
    "outputId": "3399c28e-229e-4006-b7cf-c44ac0dc755f"
   },
   "outputs": [
    {
     "data": {
      "text/html": [
       "<pre style=\"white-space:pre;overflow-x:auto;line-height:normal;font-family:Menlo,'DejaVu Sans Mono',consolas,'Courier New',monospace\"><span style=\"font-weight: bold\">Model: \"hybrid_model\"</span>\n",
       "</pre>\n"
      ],
      "text/plain": [
       "\u001b[1mModel: \"hybrid_model\"\u001b[0m\n"
      ]
     },
     "metadata": {},
     "output_type": "display_data"
    },
    {
     "data": {
      "text/html": [
       "<pre style=\"white-space:pre;overflow-x:auto;line-height:normal;font-family:Menlo,'DejaVu Sans Mono',consolas,'Courier New',monospace\">┏━━━━━━━━━━━━━━━━━━━━━┳━━━━━━━━━━━━━━━━━━━┳━━━━━━━━━━━━┳━━━━━━━━━━━━━━━━━━━┓\n",
       "┃<span style=\"font-weight: bold\"> Layer (type)        </span>┃<span style=\"font-weight: bold\"> Output Shape      </span>┃<span style=\"font-weight: bold\">    Param # </span>┃<span style=\"font-weight: bold\"> Connected to      </span>┃\n",
       "┡━━━━━━━━━━━━━━━━━━━━━╇━━━━━━━━━━━━━━━━━━━╇━━━━━━━━━━━━╇━━━━━━━━━━━━━━━━━━━┩\n",
       "│ image_input         │ (<span style=\"color: #00d7ff; text-decoration-color: #00d7ff\">None</span>, <span style=\"color: #00af00; text-decoration-color: #00af00\">28</span>, <span style=\"color: #00af00; text-decoration-color: #00af00\">28</span>, <span style=\"color: #00af00; text-decoration-color: #00af00\">1</span>) │          <span style=\"color: #00af00; text-decoration-color: #00af00\">0</span> │ -                 │\n",
       "│ (<span style=\"color: #0087ff; text-decoration-color: #0087ff\">InputLayer</span>)        │                   │            │                   │\n",
       "├─────────────────────┼───────────────────┼────────────┼───────────────────┤\n",
       "│ conv2d_3 (<span style=\"color: #0087ff; text-decoration-color: #0087ff\">Conv2D</span>)   │ (<span style=\"color: #00d7ff; text-decoration-color: #00d7ff\">None</span>, <span style=\"color: #00af00; text-decoration-color: #00af00\">28</span>, <span style=\"color: #00af00; text-decoration-color: #00af00\">28</span>,    │        <span style=\"color: #00af00; text-decoration-color: #00af00\">320</span> │ image_input[<span style=\"color: #00af00; text-decoration-color: #00af00\">0</span>][<span style=\"color: #00af00; text-decoration-color: #00af00\">0</span>] │\n",
       "│                     │ <span style=\"color: #00af00; text-decoration-color: #00af00\">32</span>)               │            │                   │\n",
       "├─────────────────────┼───────────────────┼────────────┼───────────────────┤\n",
       "│ max_pooling2d_3     │ (<span style=\"color: #00d7ff; text-decoration-color: #00d7ff\">None</span>, <span style=\"color: #00af00; text-decoration-color: #00af00\">14</span>, <span style=\"color: #00af00; text-decoration-color: #00af00\">14</span>,    │          <span style=\"color: #00af00; text-decoration-color: #00af00\">0</span> │ conv2d_3[<span style=\"color: #00af00; text-decoration-color: #00af00\">0</span>][<span style=\"color: #00af00; text-decoration-color: #00af00\">0</span>]    │\n",
       "│ (<span style=\"color: #0087ff; text-decoration-color: #0087ff\">MaxPooling2D</span>)      │ <span style=\"color: #00af00; text-decoration-color: #00af00\">32</span>)               │            │                   │\n",
       "├─────────────────────┼───────────────────┼────────────┼───────────────────┤\n",
       "│ conv2d_4 (<span style=\"color: #0087ff; text-decoration-color: #0087ff\">Conv2D</span>)   │ (<span style=\"color: #00d7ff; text-decoration-color: #00d7ff\">None</span>, <span style=\"color: #00af00; text-decoration-color: #00af00\">14</span>, <span style=\"color: #00af00; text-decoration-color: #00af00\">14</span>,    │     <span style=\"color: #00af00; text-decoration-color: #00af00\">18,496</span> │ max_pooling2d_3[<span style=\"color: #00af00; text-decoration-color: #00af00\">…</span> │\n",
       "│                     │ <span style=\"color: #00af00; text-decoration-color: #00af00\">64</span>)               │            │                   │\n",
       "├─────────────────────┼───────────────────┼────────────┼───────────────────┤\n",
       "│ max_pooling2d_4     │ (<span style=\"color: #00d7ff; text-decoration-color: #00d7ff\">None</span>, <span style=\"color: #00af00; text-decoration-color: #00af00\">7</span>, <span style=\"color: #00af00; text-decoration-color: #00af00\">7</span>, <span style=\"color: #00af00; text-decoration-color: #00af00\">64</span>)  │          <span style=\"color: #00af00; text-decoration-color: #00af00\">0</span> │ conv2d_4[<span style=\"color: #00af00; text-decoration-color: #00af00\">0</span>][<span style=\"color: #00af00; text-decoration-color: #00af00\">0</span>]    │\n",
       "│ (<span style=\"color: #0087ff; text-decoration-color: #0087ff\">MaxPooling2D</span>)      │                   │            │                   │\n",
       "├─────────────────────┼───────────────────┼────────────┼───────────────────┤\n",
       "│ stroke_input        │ (<span style=\"color: #00d7ff; text-decoration-color: #00d7ff\">None</span>, <span style=\"color: #00af00; text-decoration-color: #00af00\">130</span>, <span style=\"color: #00af00; text-decoration-color: #00af00\">3</span>)    │          <span style=\"color: #00af00; text-decoration-color: #00af00\">0</span> │ -                 │\n",
       "│ (<span style=\"color: #0087ff; text-decoration-color: #0087ff\">InputLayer</span>)        │                   │            │                   │\n",
       "├─────────────────────┼───────────────────┼────────────┼───────────────────┤\n",
       "│ conv2d_5 (<span style=\"color: #0087ff; text-decoration-color: #0087ff\">Conv2D</span>)   │ (<span style=\"color: #00d7ff; text-decoration-color: #00d7ff\">None</span>, <span style=\"color: #00af00; text-decoration-color: #00af00\">7</span>, <span style=\"color: #00af00; text-decoration-color: #00af00\">7</span>, <span style=\"color: #00af00; text-decoration-color: #00af00\">128</span>) │     <span style=\"color: #00af00; text-decoration-color: #00af00\">73,856</span> │ max_pooling2d_4[<span style=\"color: #00af00; text-decoration-color: #00af00\">…</span> │\n",
       "├─────────────────────┼───────────────────┼────────────┼───────────────────┤\n",
       "│ bidirectional_2     │ (<span style=\"color: #00d7ff; text-decoration-color: #00d7ff\">None</span>, <span style=\"color: #00af00; text-decoration-color: #00af00\">130</span>, <span style=\"color: #00af00; text-decoration-color: #00af00\">256</span>)  │    <span style=\"color: #00af00; text-decoration-color: #00af00\">135,168</span> │ stroke_input[<span style=\"color: #00af00; text-decoration-color: #00af00\">0</span>][<span style=\"color: #00af00; text-decoration-color: #00af00\">…</span> │\n",
       "│ (<span style=\"color: #0087ff; text-decoration-color: #0087ff\">Bidirectional</span>)     │                   │            │                   │\n",
       "├─────────────────────┼───────────────────┼────────────┼───────────────────┤\n",
       "│ max_pooling2d_5     │ (<span style=\"color: #00d7ff; text-decoration-color: #00d7ff\">None</span>, <span style=\"color: #00af00; text-decoration-color: #00af00\">3</span>, <span style=\"color: #00af00; text-decoration-color: #00af00\">3</span>, <span style=\"color: #00af00; text-decoration-color: #00af00\">128</span>) │          <span style=\"color: #00af00; text-decoration-color: #00af00\">0</span> │ conv2d_5[<span style=\"color: #00af00; text-decoration-color: #00af00\">0</span>][<span style=\"color: #00af00; text-decoration-color: #00af00\">0</span>]    │\n",
       "│ (<span style=\"color: #0087ff; text-decoration-color: #0087ff\">MaxPooling2D</span>)      │                   │            │                   │\n",
       "├─────────────────────┼───────────────────┼────────────┼───────────────────┤\n",
       "│ bidirectional_3     │ (<span style=\"color: #00d7ff; text-decoration-color: #00d7ff\">None</span>, <span style=\"color: #00af00; text-decoration-color: #00af00\">128</span>)       │    <span style=\"color: #00af00; text-decoration-color: #00af00\">164,352</span> │ bidirectional_2[<span style=\"color: #00af00; text-decoration-color: #00af00\">…</span> │\n",
       "│ (<span style=\"color: #0087ff; text-decoration-color: #0087ff\">Bidirectional</span>)     │                   │            │                   │\n",
       "├─────────────────────┼───────────────────┼────────────┼───────────────────┤\n",
       "│ flatten_1 (<span style=\"color: #0087ff; text-decoration-color: #0087ff\">Flatten</span>) │ (<span style=\"color: #00d7ff; text-decoration-color: #00d7ff\">None</span>, <span style=\"color: #00af00; text-decoration-color: #00af00\">1152</span>)      │          <span style=\"color: #00af00; text-decoration-color: #00af00\">0</span> │ max_pooling2d_5[<span style=\"color: #00af00; text-decoration-color: #00af00\">…</span> │\n",
       "├─────────────────────┼───────────────────┼────────────┼───────────────────┤\n",
       "│ dense_4 (<span style=\"color: #0087ff; text-decoration-color: #0087ff\">Dense</span>)     │ (<span style=\"color: #00d7ff; text-decoration-color: #00d7ff\">None</span>, <span style=\"color: #00af00; text-decoration-color: #00af00\">64</span>)        │      <span style=\"color: #00af00; text-decoration-color: #00af00\">8,256</span> │ bidirectional_3[<span style=\"color: #00af00; text-decoration-color: #00af00\">…</span> │\n",
       "├─────────────────────┼───────────────────┼────────────┼───────────────────┤\n",
       "│ dense_5 (<span style=\"color: #0087ff; text-decoration-color: #0087ff\">Dense</span>)     │ (<span style=\"color: #00d7ff; text-decoration-color: #00d7ff\">None</span>, <span style=\"color: #00af00; text-decoration-color: #00af00\">128</span>)       │    <span style=\"color: #00af00; text-decoration-color: #00af00\">147,584</span> │ flatten_1[<span style=\"color: #00af00; text-decoration-color: #00af00\">0</span>][<span style=\"color: #00af00; text-decoration-color: #00af00\">0</span>]   │\n",
       "├─────────────────────┼───────────────────┼────────────┼───────────────────┤\n",
       "│ concatenate_1       │ (<span style=\"color: #00d7ff; text-decoration-color: #00d7ff\">None</span>, <span style=\"color: #00af00; text-decoration-color: #00af00\">192</span>)       │          <span style=\"color: #00af00; text-decoration-color: #00af00\">0</span> │ dense_4[<span style=\"color: #00af00; text-decoration-color: #00af00\">0</span>][<span style=\"color: #00af00; text-decoration-color: #00af00\">0</span>],    │\n",
       "│ (<span style=\"color: #0087ff; text-decoration-color: #0087ff\">Concatenate</span>)       │                   │            │ dense_5[<span style=\"color: #00af00; text-decoration-color: #00af00\">0</span>][<span style=\"color: #00af00; text-decoration-color: #00af00\">0</span>]     │\n",
       "├─────────────────────┼───────────────────┼────────────┼───────────────────┤\n",
       "│ dropout_1 (<span style=\"color: #0087ff; text-decoration-color: #0087ff\">Dropout</span>) │ (<span style=\"color: #00d7ff; text-decoration-color: #00d7ff\">None</span>, <span style=\"color: #00af00; text-decoration-color: #00af00\">192</span>)       │          <span style=\"color: #00af00; text-decoration-color: #00af00\">0</span> │ concatenate_1[<span style=\"color: #00af00; text-decoration-color: #00af00\">0</span>]… │\n",
       "├─────────────────────┼───────────────────┼────────────┼───────────────────┤\n",
       "│ dense_6 (<span style=\"color: #0087ff; text-decoration-color: #0087ff\">Dense</span>)     │ (<span style=\"color: #00d7ff; text-decoration-color: #00d7ff\">None</span>, <span style=\"color: #00af00; text-decoration-color: #00af00\">128</span>)       │     <span style=\"color: #00af00; text-decoration-color: #00af00\">24,704</span> │ dropout_1[<span style=\"color: #00af00; text-decoration-color: #00af00\">0</span>][<span style=\"color: #00af00; text-decoration-color: #00af00\">0</span>]   │\n",
       "├─────────────────────┼───────────────────┼────────────┼───────────────────┤\n",
       "│ dense_7 (<span style=\"color: #0087ff; text-decoration-color: #0087ff\">Dense</span>)     │ (<span style=\"color: #00d7ff; text-decoration-color: #00d7ff\">None</span>, <span style=\"color: #00af00; text-decoration-color: #00af00\">48</span>)        │      <span style=\"color: #00af00; text-decoration-color: #00af00\">6,192</span> │ dense_6[<span style=\"color: #00af00; text-decoration-color: #00af00\">0</span>][<span style=\"color: #00af00; text-decoration-color: #00af00\">0</span>]     │\n",
       "└─────────────────────┴───────────────────┴────────────┴───────────────────┘\n",
       "</pre>\n"
      ],
      "text/plain": [
       "┏━━━━━━━━━━━━━━━━━━━━━┳━━━━━━━━━━━━━━━━━━━┳━━━━━━━━━━━━┳━━━━━━━━━━━━━━━━━━━┓\n",
       "┃\u001b[1m \u001b[0m\u001b[1mLayer (type)       \u001b[0m\u001b[1m \u001b[0m┃\u001b[1m \u001b[0m\u001b[1mOutput Shape     \u001b[0m\u001b[1m \u001b[0m┃\u001b[1m \u001b[0m\u001b[1m   Param #\u001b[0m\u001b[1m \u001b[0m┃\u001b[1m \u001b[0m\u001b[1mConnected to     \u001b[0m\u001b[1m \u001b[0m┃\n",
       "┡━━━━━━━━━━━━━━━━━━━━━╇━━━━━━━━━━━━━━━━━━━╇━━━━━━━━━━━━╇━━━━━━━━━━━━━━━━━━━┩\n",
       "│ image_input         │ (\u001b[38;5;45mNone\u001b[0m, \u001b[38;5;34m28\u001b[0m, \u001b[38;5;34m28\u001b[0m, \u001b[38;5;34m1\u001b[0m) │          \u001b[38;5;34m0\u001b[0m │ -                 │\n",
       "│ (\u001b[38;5;33mInputLayer\u001b[0m)        │                   │            │                   │\n",
       "├─────────────────────┼───────────────────┼────────────┼───────────────────┤\n",
       "│ conv2d_3 (\u001b[38;5;33mConv2D\u001b[0m)   │ (\u001b[38;5;45mNone\u001b[0m, \u001b[38;5;34m28\u001b[0m, \u001b[38;5;34m28\u001b[0m,    │        \u001b[38;5;34m320\u001b[0m │ image_input[\u001b[38;5;34m0\u001b[0m][\u001b[38;5;34m0\u001b[0m] │\n",
       "│                     │ \u001b[38;5;34m32\u001b[0m)               │            │                   │\n",
       "├─────────────────────┼───────────────────┼────────────┼───────────────────┤\n",
       "│ max_pooling2d_3     │ (\u001b[38;5;45mNone\u001b[0m, \u001b[38;5;34m14\u001b[0m, \u001b[38;5;34m14\u001b[0m,    │          \u001b[38;5;34m0\u001b[0m │ conv2d_3[\u001b[38;5;34m0\u001b[0m][\u001b[38;5;34m0\u001b[0m]    │\n",
       "│ (\u001b[38;5;33mMaxPooling2D\u001b[0m)      │ \u001b[38;5;34m32\u001b[0m)               │            │                   │\n",
       "├─────────────────────┼───────────────────┼────────────┼───────────────────┤\n",
       "│ conv2d_4 (\u001b[38;5;33mConv2D\u001b[0m)   │ (\u001b[38;5;45mNone\u001b[0m, \u001b[38;5;34m14\u001b[0m, \u001b[38;5;34m14\u001b[0m,    │     \u001b[38;5;34m18,496\u001b[0m │ max_pooling2d_3[\u001b[38;5;34m…\u001b[0m │\n",
       "│                     │ \u001b[38;5;34m64\u001b[0m)               │            │                   │\n",
       "├─────────────────────┼───────────────────┼────────────┼───────────────────┤\n",
       "│ max_pooling2d_4     │ (\u001b[38;5;45mNone\u001b[0m, \u001b[38;5;34m7\u001b[0m, \u001b[38;5;34m7\u001b[0m, \u001b[38;5;34m64\u001b[0m)  │          \u001b[38;5;34m0\u001b[0m │ conv2d_4[\u001b[38;5;34m0\u001b[0m][\u001b[38;5;34m0\u001b[0m]    │\n",
       "│ (\u001b[38;5;33mMaxPooling2D\u001b[0m)      │                   │            │                   │\n",
       "├─────────────────────┼───────────────────┼────────────┼───────────────────┤\n",
       "│ stroke_input        │ (\u001b[38;5;45mNone\u001b[0m, \u001b[38;5;34m130\u001b[0m, \u001b[38;5;34m3\u001b[0m)    │          \u001b[38;5;34m0\u001b[0m │ -                 │\n",
       "│ (\u001b[38;5;33mInputLayer\u001b[0m)        │                   │            │                   │\n",
       "├─────────────────────┼───────────────────┼────────────┼───────────────────┤\n",
       "│ conv2d_5 (\u001b[38;5;33mConv2D\u001b[0m)   │ (\u001b[38;5;45mNone\u001b[0m, \u001b[38;5;34m7\u001b[0m, \u001b[38;5;34m7\u001b[0m, \u001b[38;5;34m128\u001b[0m) │     \u001b[38;5;34m73,856\u001b[0m │ max_pooling2d_4[\u001b[38;5;34m…\u001b[0m │\n",
       "├─────────────────────┼───────────────────┼────────────┼───────────────────┤\n",
       "│ bidirectional_2     │ (\u001b[38;5;45mNone\u001b[0m, \u001b[38;5;34m130\u001b[0m, \u001b[38;5;34m256\u001b[0m)  │    \u001b[38;5;34m135,168\u001b[0m │ stroke_input[\u001b[38;5;34m0\u001b[0m][\u001b[38;5;34m…\u001b[0m │\n",
       "│ (\u001b[38;5;33mBidirectional\u001b[0m)     │                   │            │                   │\n",
       "├─────────────────────┼───────────────────┼────────────┼───────────────────┤\n",
       "│ max_pooling2d_5     │ (\u001b[38;5;45mNone\u001b[0m, \u001b[38;5;34m3\u001b[0m, \u001b[38;5;34m3\u001b[0m, \u001b[38;5;34m128\u001b[0m) │          \u001b[38;5;34m0\u001b[0m │ conv2d_5[\u001b[38;5;34m0\u001b[0m][\u001b[38;5;34m0\u001b[0m]    │\n",
       "│ (\u001b[38;5;33mMaxPooling2D\u001b[0m)      │                   │            │                   │\n",
       "├─────────────────────┼───────────────────┼────────────┼───────────────────┤\n",
       "│ bidirectional_3     │ (\u001b[38;5;45mNone\u001b[0m, \u001b[38;5;34m128\u001b[0m)       │    \u001b[38;5;34m164,352\u001b[0m │ bidirectional_2[\u001b[38;5;34m…\u001b[0m │\n",
       "│ (\u001b[38;5;33mBidirectional\u001b[0m)     │                   │            │                   │\n",
       "├─────────────────────┼───────────────────┼────────────┼───────────────────┤\n",
       "│ flatten_1 (\u001b[38;5;33mFlatten\u001b[0m) │ (\u001b[38;5;45mNone\u001b[0m, \u001b[38;5;34m1152\u001b[0m)      │          \u001b[38;5;34m0\u001b[0m │ max_pooling2d_5[\u001b[38;5;34m…\u001b[0m │\n",
       "├─────────────────────┼───────────────────┼────────────┼───────────────────┤\n",
       "│ dense_4 (\u001b[38;5;33mDense\u001b[0m)     │ (\u001b[38;5;45mNone\u001b[0m, \u001b[38;5;34m64\u001b[0m)        │      \u001b[38;5;34m8,256\u001b[0m │ bidirectional_3[\u001b[38;5;34m…\u001b[0m │\n",
       "├─────────────────────┼───────────────────┼────────────┼───────────────────┤\n",
       "│ dense_5 (\u001b[38;5;33mDense\u001b[0m)     │ (\u001b[38;5;45mNone\u001b[0m, \u001b[38;5;34m128\u001b[0m)       │    \u001b[38;5;34m147,584\u001b[0m │ flatten_1[\u001b[38;5;34m0\u001b[0m][\u001b[38;5;34m0\u001b[0m]   │\n",
       "├─────────────────────┼───────────────────┼────────────┼───────────────────┤\n",
       "│ concatenate_1       │ (\u001b[38;5;45mNone\u001b[0m, \u001b[38;5;34m192\u001b[0m)       │          \u001b[38;5;34m0\u001b[0m │ dense_4[\u001b[38;5;34m0\u001b[0m][\u001b[38;5;34m0\u001b[0m],    │\n",
       "│ (\u001b[38;5;33mConcatenate\u001b[0m)       │                   │            │ dense_5[\u001b[38;5;34m0\u001b[0m][\u001b[38;5;34m0\u001b[0m]     │\n",
       "├─────────────────────┼───────────────────┼────────────┼───────────────────┤\n",
       "│ dropout_1 (\u001b[38;5;33mDropout\u001b[0m) │ (\u001b[38;5;45mNone\u001b[0m, \u001b[38;5;34m192\u001b[0m)       │          \u001b[38;5;34m0\u001b[0m │ concatenate_1[\u001b[38;5;34m0\u001b[0m]… │\n",
       "├─────────────────────┼───────────────────┼────────────┼───────────────────┤\n",
       "│ dense_6 (\u001b[38;5;33mDense\u001b[0m)     │ (\u001b[38;5;45mNone\u001b[0m, \u001b[38;5;34m128\u001b[0m)       │     \u001b[38;5;34m24,704\u001b[0m │ dropout_1[\u001b[38;5;34m0\u001b[0m][\u001b[38;5;34m0\u001b[0m]   │\n",
       "├─────────────────────┼───────────────────┼────────────┼───────────────────┤\n",
       "│ dense_7 (\u001b[38;5;33mDense\u001b[0m)     │ (\u001b[38;5;45mNone\u001b[0m, \u001b[38;5;34m48\u001b[0m)        │      \u001b[38;5;34m6,192\u001b[0m │ dense_6[\u001b[38;5;34m0\u001b[0m][\u001b[38;5;34m0\u001b[0m]     │\n",
       "└─────────────────────┴───────────────────┴────────────┴───────────────────┘\n"
      ]
     },
     "metadata": {},
     "output_type": "display_data"
    },
    {
     "data": {
      "text/html": [
       "<pre style=\"white-space:pre;overflow-x:auto;line-height:normal;font-family:Menlo,'DejaVu Sans Mono',consolas,'Courier New',monospace\"><span style=\"font-weight: bold\"> Total params: </span><span style=\"color: #00af00; text-decoration-color: #00af00\">578,928</span> (2.21 MB)\n",
       "</pre>\n"
      ],
      "text/plain": [
       "\u001b[1m Total params: \u001b[0m\u001b[38;5;34m578,928\u001b[0m (2.21 MB)\n"
      ]
     },
     "metadata": {},
     "output_type": "display_data"
    },
    {
     "data": {
      "text/html": [
       "<pre style=\"white-space:pre;overflow-x:auto;line-height:normal;font-family:Menlo,'DejaVu Sans Mono',consolas,'Courier New',monospace\"><span style=\"font-weight: bold\"> Trainable params: </span><span style=\"color: #00af00; text-decoration-color: #00af00\">578,928</span> (2.21 MB)\n",
       "</pre>\n"
      ],
      "text/plain": [
       "\u001b[1m Trainable params: \u001b[0m\u001b[38;5;34m578,928\u001b[0m (2.21 MB)\n"
      ]
     },
     "metadata": {},
     "output_type": "display_data"
    },
    {
     "data": {
      "text/html": [
       "<pre style=\"white-space:pre;overflow-x:auto;line-height:normal;font-family:Menlo,'DejaVu Sans Mono',consolas,'Courier New',monospace\"><span style=\"font-weight: bold\"> Non-trainable params: </span><span style=\"color: #00af00; text-decoration-color: #00af00\">0</span> (0.00 B)\n",
       "</pre>\n"
      ],
      "text/plain": [
       "\u001b[1m Non-trainable params: \u001b[0m\u001b[38;5;34m0\u001b[0m (0.00 B)\n"
      ]
     },
     "metadata": {},
     "output_type": "display_data"
    },
    {
     "name": "stdout",
     "output_type": "stream",
     "text": [
      "Epoch 1/15\n",
      "\u001b[1m1688/1688\u001b[0m \u001b[32m━━━━━━━━━━━━━━━━━━━━\u001b[0m\u001b[37m\u001b[0m \u001b[1m80s\u001b[0m 42ms/step - accuracy: 0.4744 - loss: 1.8884 - val_accuracy: 0.8519 - val_loss: 0.5000\n",
      "Epoch 2/15\n",
      "\u001b[1m1688/1688\u001b[0m \u001b[32m━━━━━━━━━━━━━━━━━━━━\u001b[0m\u001b[37m\u001b[0m \u001b[1m78s\u001b[0m 42ms/step - accuracy: 0.7887 - loss: 0.7046 - val_accuracy: 0.8833 - val_loss: 0.3886\n",
      "Epoch 3/15\n",
      "\u001b[1m1688/1688\u001b[0m \u001b[32m━━━━━━━━━━━━━━━━━━━━\u001b[0m\u001b[37m\u001b[0m \u001b[1m73s\u001b[0m 43ms/step - accuracy: 0.8383 - loss: 0.5358 - val_accuracy: 0.9068 - val_loss: 0.3057\n",
      "Epoch 4/15\n",
      "\u001b[1m1688/1688\u001b[0m \u001b[32m━━━━━━━━━━━━━━━━━━━━\u001b[0m\u001b[37m\u001b[0m \u001b[1m71s\u001b[0m 42ms/step - accuracy: 0.8607 - loss: 0.4582 - val_accuracy: 0.9160 - val_loss: 0.2778\n",
      "Epoch 5/15\n",
      "\u001b[1m1688/1688\u001b[0m \u001b[32m━━━━━━━━━━━━━━━━━━━━\u001b[0m\u001b[37m\u001b[0m \u001b[1m84s\u001b[0m 43ms/step - accuracy: 0.8773 - loss: 0.4014 - val_accuracy: 0.9222 - val_loss: 0.2590\n",
      "Epoch 6/15\n",
      "\u001b[1m1688/1688\u001b[0m \u001b[32m━━━━━━━━━━━━━━━━━━━━\u001b[0m\u001b[37m\u001b[0m \u001b[1m80s\u001b[0m 42ms/step - accuracy: 0.8897 - loss: 0.3630 - val_accuracy: 0.9215 - val_loss: 0.2541\n",
      "Epoch 7/15\n",
      "\u001b[1m1688/1688\u001b[0m \u001b[32m━━━━━━━━━━━━━━━━━━━━\u001b[0m\u001b[37m\u001b[0m \u001b[1m83s\u001b[0m 42ms/step - accuracy: 0.8958 - loss: 0.3361 - val_accuracy: 0.9270 - val_loss: 0.2376\n",
      "Epoch 8/15\n",
      "\u001b[1m1688/1688\u001b[0m \u001b[32m━━━━━━━━━━━━━━━━━━━━\u001b[0m\u001b[37m\u001b[0m \u001b[1m82s\u001b[0m 42ms/step - accuracy: 0.9034 - loss: 0.3102 - val_accuracy: 0.9270 - val_loss: 0.2352\n",
      "Epoch 9/15\n",
      "\u001b[1m1688/1688\u001b[0m \u001b[32m━━━━━━━━━━━━━━━━━━━━\u001b[0m\u001b[37m\u001b[0m \u001b[1m83s\u001b[0m 43ms/step - accuracy: 0.9098 - loss: 0.2898 - val_accuracy: 0.9290 - val_loss: 0.2295\n",
      "Epoch 10/15\n",
      "\u001b[1m1688/1688\u001b[0m \u001b[32m━━━━━━━━━━━━━━━━━━━━\u001b[0m\u001b[37m\u001b[0m \u001b[1m73s\u001b[0m 43ms/step - accuracy: 0.9136 - loss: 0.2764 - val_accuracy: 0.9320 - val_loss: 0.2185\n",
      "Epoch 11/15\n",
      "\u001b[1m1688/1688\u001b[0m \u001b[32m━━━━━━━━━━━━━━━━━━━━\u001b[0m\u001b[37m\u001b[0m \u001b[1m81s\u001b[0m 43ms/step - accuracy: 0.9169 - loss: 0.2623 - val_accuracy: 0.9342 - val_loss: 0.2132\n",
      "Epoch 12/15\n",
      "\u001b[1m1688/1688\u001b[0m \u001b[32m━━━━━━━━━━━━━━━━━━━━\u001b[0m\u001b[37m\u001b[0m \u001b[1m83s\u001b[0m 43ms/step - accuracy: 0.9221 - loss: 0.2462 - val_accuracy: 0.9333 - val_loss: 0.2159\n",
      "Epoch 13/15\n",
      "\u001b[1m1688/1688\u001b[0m \u001b[32m━━━━━━━━━━━━━━━━━━━━\u001b[0m\u001b[37m\u001b[0m \u001b[1m82s\u001b[0m 43ms/step - accuracy: 0.9257 - loss: 0.2364 - val_accuracy: 0.9381 - val_loss: 0.2067\n",
      "Epoch 14/15\n",
      "\u001b[1m1688/1688\u001b[0m \u001b[32m━━━━━━━━━━━━━━━━━━━━\u001b[0m\u001b[37m\u001b[0m \u001b[1m83s\u001b[0m 44ms/step - accuracy: 0.9267 - loss: 0.2282 - val_accuracy: 0.9362 - val_loss: 0.2082\n",
      "Epoch 15/15\n",
      "\u001b[1m1688/1688\u001b[0m \u001b[32m━━━━━━━━━━━━━━━━━━━━\u001b[0m\u001b[37m\u001b[0m \u001b[1m83s\u001b[0m 45ms/step - accuracy: 0.9307 - loss: 0.2177 - val_accuracy: 0.9356 - val_loss: 0.2127\n"
     ]
    }
   ],
   "source": [
    "# build and trian model\n",
    "model = build_hybrid_model()\n",
    "model.compile(optimizer='adam',\n",
    "              loss='categorical_crossentropy',\n",
    "              metrics=['accuracy'])\n",
    "# model.summary()\n",
    "\n",
    "callbacks = [\n",
    "    ModelCheckpoint(\"best_hybrid_model.keras\",\n",
    "                    monitor=\"val_accuracy\",\n",
    "                    save_best_only=True),\n",
    "    EarlyStopping(monitor=\"val_loss\",\n",
    "                  patience=5,\n",
    "                  restore_best_weights=True)\n",
    "]\n",
    "\n",
    "history = model.fit(\n",
    "    [X_str_train, X_img_train], y_train,\n",
    "    validation_data=([X_str_val, X_img_val], y_val),\n",
    "    batch_size=BATCH_SIZE,\n",
    "    epochs=EPOCHS,\n",
    "    callbacks=callbacks\n",
    ")\n"
   ]
  },
  {
   "cell_type": "code",
   "execution_count": null,
   "metadata": {
    "colab": {
     "base_uri": "https://localhost:8080/"
    },
    "id": "FkpjTzGagKoY",
    "outputId": "55ac7ce2-aa88-417a-8299-86615e62f405"
   },
   "outputs": [
    {
     "name": "stdout",
     "output_type": "stream",
     "text": [
      "Epoch 16/20\n",
      "\u001b[1m1688/1688\u001b[0m \u001b[32m━━━━━━━━━━━━━━━━━━━━\u001b[0m\u001b[37m\u001b[0m \u001b[1m76s\u001b[0m 43ms/step - accuracy: 0.9273 - loss: 0.2307 - val_accuracy: 0.9344 - val_loss: 0.2114\n",
      "Epoch 17/20\n",
      "\u001b[1m1688/1688\u001b[0m \u001b[32m━━━━━━━━━━━━━━━━━━━━\u001b[0m\u001b[37m\u001b[0m \u001b[1m70s\u001b[0m 41ms/step - accuracy: 0.9316 - loss: 0.2170 - val_accuracy: 0.9394 - val_loss: 0.2004\n",
      "Epoch 18/20\n",
      "\u001b[1m1688/1688\u001b[0m \u001b[32m━━━━━━━━━━━━━━━━━━━━\u001b[0m\u001b[37m\u001b[0m \u001b[1m70s\u001b[0m 41ms/step - accuracy: 0.9326 - loss: 0.2109 - val_accuracy: 0.9390 - val_loss: 0.2001\n",
      "Epoch 19/20\n",
      "\u001b[1m1688/1688\u001b[0m \u001b[32m━━━━━━━━━━━━━━━━━━━━\u001b[0m\u001b[37m\u001b[0m \u001b[1m85s\u001b[0m 43ms/step - accuracy: 0.9347 - loss: 0.2042 - val_accuracy: 0.9389 - val_loss: 0.2013\n",
      "Epoch 20/20\n",
      "\u001b[1m1688/1688\u001b[0m \u001b[32m━━━━━━━━━━━━━━━━━━━━\u001b[0m\u001b[37m\u001b[0m \u001b[1m82s\u001b[0m 43ms/step - accuracy: 0.9367 - loss: 0.1997 - val_accuracy: 0.9372 - val_loss: 0.2069\n"
     ]
    }
   ],
   "source": [
    "from tensorflow.keras.models import load_model\n",
    "\n",
    "model = load_model(\"best_hybrid_model.keras\")\n",
    "\n",
    "\n",
    "# history = model.fit(\n",
    "#     X_train, y_train,\n",
    "#     validation_data=(X_val, y_val),\n",
    "#     initial_epoch=15,  # (optional)\n",
    "#     epochs=30,\n",
    "#     batch_size=256,\n",
    "#     callbacks=callbacks\n",
    "# )\n",
    "\n",
    "history = model.fit(\n",
    "    [X_str_train, X_img_train], y_train,\n",
    "    validation_data=([X_str_val, X_img_val], y_val),\n",
    "    batch_size=BATCH_SIZE,\n",
    "    initial_epoch=15,\n",
    "    epochs=20,\n",
    "    callbacks=callbacks\n",
    ")"
   ]
  },
  {
   "cell_type": "code",
   "execution_count": null,
   "metadata": {
    "id": "zgCKbbG1ia3b"
   },
   "outputs": [],
   "source": [
    "class_names = sorted([f[:-4] for f in os.listdir(DATA_DIR_IMAGES) if f.endswith('.npy')])[:y.shape[1]]\n"
   ]
  },
  {
   "cell_type": "code",
   "execution_count": null,
   "metadata": {
    "colab": {
     "base_uri": "https://localhost:8080/"
    },
    "id": "DUrtDojMYyb1",
    "outputId": "23f08b63-4315-4a50-8d46-ef61f69ff412"
   },
   "outputs": [
    {
     "name": "stdout",
     "output_type": "stream",
     "text": [
      "\u001b[1m1/1\u001b[0m \u001b[32m━━━━━━━━━━━━━━━━━━━━\u001b[0m\u001b[37m\u001b[0m \u001b[1m0s\u001b[0m 46ms/step\n",
      "Predicted classes: ['eye', 'crab', 'donut', 'dumbbell', 'flashlight']\n",
      "True classes:      ['eye', 'crab', 'donut', 'dumbbell', 'leg']\n",
      "Inference time for 5 samples: 0.1088 seconds\n",
      "Average time per sample: 0.021755 seconds\n"
     ]
    }
   ],
   "source": [
    "# testing with random 5 examples to see infernece\n",
    "import time\n",
    "\n",
    "model.load_weights(\"best_hybrid_model.keras\")\n",
    "\n",
    "num_test = 5\n",
    "test_str = X_str_val[:num_test]\n",
    "test_img = X_img_val[:num_test]\n",
    "\n",
    "start = time.time()\n",
    "preds = model.predict([test_str, test_img])\n",
    "end = time.time()\n",
    "\n",
    "pred_cl = np.argmax(preds, axis=1)\n",
    "true_cl = np.argmax(y_val[:num_test], axis=1)\n",
    "\n",
    "print(\"Predicted classes:\", [class_names[i] for i in pred_cl])\n",
    "print(\"True classes:     \", [class_names[i] for i in true_cl])\n",
    "\n",
    "print(f\"Inference time for {num_test} samples: {end - start:.4f} seconds\")\n",
    "print(f\"Average time per sample: {(end - start) / num_test:.6f} seconds\")\n"
   ]
  },
  {
   "cell_type": "code",
   "execution_count": null,
   "metadata": {
    "colab": {
     "base_uri": "https://localhost:8080/",
     "height": 515
    },
    "id": "dDdY04ugf2oH",
    "outputId": "10a47839-2d70-43cb-d6c7-612831bdb387"
   },
   "outputs": [
    {
     "name": "stdout",
     "output_type": "stream",
     "text": [
      "🔍 Class: spoon (index 42) | Sample #35133\n",
      "\u001b[1m1/1\u001b[0m \u001b[32m━━━━━━━━━━━━━━━━━━━━\u001b[0m\u001b[37m\u001b[0m \u001b[1m0s\u001b[0m 41ms/step\n",
      "✅ True class: spoon\n",
      "🤖 Predicted class: spoon\n",
      "⏱️ Inference time: 0.08066 seconds\n"
     ]
    },
    {
     "data": {
      "image/png": "[encoded data removed]",
      "text/plain": [
       "<Figure size 640x480 with 1 Axes>"
      ]
     },
     "metadata": {},
     "output_type": "display_data"
    }
   ],
   "source": [
    "# infernce with unknow data from unpicked samples from data\n",
    "import random\n",
    "import matplotlib.pyplot as plt\n",
    "\n",
    "def predict_random_from_disk(data_dir_img='image_folder', data_dir_stroke='strokes_data'):\n",
    "    image_files  = sorted([f for f in os.listdir(data_dir_img) if f.endswith('.npy')])\n",
    "    stroke_files = sorted([f for f in os.listdir(data_dir_stroke) if f.endswith('.npz')])\n",
    "    class_names  = sorted(list(set(f[:-4] for f in image_files) & set(f[:-4] for f in stroke_files)))\n",
    "\n",
    "    class_idx = random.randint(0, len(class_names)-1)\n",
    "    class_name = class_names[class_idx]\n",
    "    max_idx = 74999\n",
    "    sample_idx = random.randint(0, max_idx)\n",
    "\n",
    "    print(f\"🔍 Class: {class_name} (index {class_idx}) | Sample #{sample_idx}\")\n",
    "\n",
    "    img_path = os.path.join(data_dir_img, f\"{class_name}.npy\")\n",
    "    img_arr = np.load(img_path, mmap_mode='r')[sample_idx]\n",
    "    img_arr = img_arr.reshape(1, 28, 28, 1).astype('float32') / 255.0\n",
    "\n",
    "    stroke_path = os.path.join(data_dir_stroke, f\"{class_name}.npz\")\n",
    "    stroke_arr = np.load(stroke_path, allow_pickle=True, encoding='latin1')['train'][sample_idx]\n",
    "    stroke_arr = preprocess_stroke(stroke_arr)\n",
    "    stroke_arr = stroke_arr.reshape(1, MAX_SEQ_LEN, STROKE_FEATURES)\n",
    "\n",
    "    start = time.time()\n",
    "    pred = model.predict([stroke_arr, img_arr])\n",
    "    end = time.time()\n",
    "    pred_class = np.argmax(pred)\n",
    "\n",
    "    print(\"✅ True class:\", class_name)\n",
    "    print(\"🤖 Predicted class:\", class_names[pred_class])\n",
    "    print(f\"⏱️ Inference time: {end - start:.5f} seconds\")\n",
    "\n",
    "    plt.imshow(img_arr[0].squeeze(), cmap='gray')\n",
    "    plt.title(f\"True: {class_name} | Pred: {class_names[pred_class]}\")\n",
    "    plt.axis(\"off\")\n",
    "    plt.show()\n",
    "\n",
    "predict_random_from_disk()\n"
   ]
  },
  {
   "cell_type": "code",
   "execution_count": null,
   "metadata": {
    "colab": {
     "base_uri": "https://localhost:8080/"
    },
    "id": "kbsmtBI7ihVf",
    "outputId": "f8b9f73f-de3c-49b0-f69a-5ab7be8f0183"
   },
   "outputs": [
    {
     "data": {
      "text/plain": [
       "<keras.src.callbacks.history.History at 0x7d8df049af10>"
      ]
     },
     "execution_count": 30,
     "metadata": {},
     "output_type": "execute_result"
    }
   ],
   "source": [
    "history"
   ]
  },
  {
   "cell_type": "code",
   "execution_count": null,
   "metadata": {
    "colab": {
     "base_uri": "https://localhost:8080/",
     "height": 507
    },
    "id": "ApS24tsUnj3N",
    "outputId": "29597184-e492-40ce-825c-c55ea6ff4895"
   },
   "outputs": [
    {
     "data": {
      "image/png": "[encoded data removed]",
      "text/plain": [
       "<Figure size 1200x500 with 2 Axes>"
      ]
     },
     "metadata": {},
     "output_type": "display_data"
    }
   ],
   "source": [
    "# plots accruacy and  losss\n",
    "import matplotlib.pyplot as plt\n",
    "\n",
    "plt.figure(figsize=(12, 5))\n",
    "plt.subplot(1, 2, 1)\n",
    "plt.plot(history.history['accuracy'], label='Training Accuracy')\n",
    "plt.plot(history.history['val_accuracy'], label='Validation Accuracy')\n",
    "plt.title('Accuracy Curves')\n",
    "plt.ylabel('Accuracy')\n",
    "plt.xlabel('Epoch')\n",
    "plt.legend()\n",
    "plt.grid(True)\n",
    "\n",
    "plt.subplot(1, 2, 2)\n",
    "plt.plot(history.history['loss'], label='Training Loss')\n",
    "plt.plot(history.history['val_loss'], label='Validation Loss')\n",
    "plt.title('Loss Curves')\n",
    "plt.ylabel('Loss')\n",
    "plt.xlabel('Epoch')\n",
    "plt.legend()\n",
    "plt.grid(True)\n",
    "\n",
    "plt.tight_layout()\n",
    "plt.show()\n"
   ]
  },
  {
   "cell_type": "code",
   "execution_count": null,
   "metadata": {
    "id": "20ndqtVSoCqc"
   },
   "outputs": [],
   "source": []
  }
 ],
 "metadata": {
  "accelerator": "GPU",
  "colab": {
   "gpuType": "T4",
   "provenance": []
  },
  "kernelspec": {
   "display_name": "Python 3 (ipykernel)",
   "language": "python",
   "name": "python3"
  },
  "language_info": {
   "codemirror_mode": {
    "name": "ipython",
    "version": 3
   },
   "file_extension": ".py",
   "mimetype": "text/x-python",
   "name": "python",
   "nbconvert_exporter": "python",
   "pygments_lexer": "ipython3",
   "version": "3.11.7"
  }
 },
 "nbformat": 4,
 "nbformat_minor": 4
}
