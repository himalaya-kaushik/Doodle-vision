{
 "cells": [
  {
   "cell_type": "code",
   "execution_count": null,
   "id": "2d663f21-eded-4ff1-a127-1092b006798b",
   "metadata": {},
   "outputs": [],
   "source": [
    "chukey report ai check\n",
    "pretrained compile\n",
    "readme\n",
    "ask about data in submission # githib link hai vaise\n",
    "\n",
    "\n",
    "# check cnn if neeeded again\n",
    "# add hybrid in report and update comparative analysis\n",
    "# strokes gif in submission file from strokes_local_trails"
   ]
  },
  {
   "cell_type": "code",
   "execution_count": null,
   "id": "b9ba919e-c657-491c-93ac-e76dd6674f4c",
   "metadata": {},
   "outputs": [],
   "source": [
    "# himalaya_air.py\n",
    "# strokes_local_trials for strokes demo\n",
    "\n",
    "# vit-Copy1\n",
    "# strokes2_lstm_colab for lstm\n",
    "# ConvLSTM: RNN_Himalaya\n",
    "# Transformer for strokes \n",
    "# InceptionV \n",
    "# CNN \n",
    "# Pretrained ?\n",
    "# plots code \n",
    "# hybrid clean\n",
    "\n",
    "# readme\n",
    "# report\n",
    "# models\n"
   ]
  }
 ],
 "metadata": {
  "kernelspec": {
   "display_name": "Python 3 (ipykernel)",
   "language": "python",
   "name": "python3"
  },
  "language_info": {
   "codemirror_mode": {
    "name": "ipython",
    "version": 3
   },
   "file_extension": ".py",
   "mimetype": "text/x-python",
   "name": "python",
   "nbconvert_exporter": "python",
   "pygments_lexer": "ipython3",
   "version": "3.11.7"
  }
 },
 "nbformat": 4,
 "nbformat_minor": 5
}
