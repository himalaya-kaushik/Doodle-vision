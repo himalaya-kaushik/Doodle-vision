{
 "cells": [
  {
   "cell_type": "markdown",
   "id": "c72b4475-2d90-44eb-9deb-e410e227fb6e",
   "metadata": {},
   "source": [
    "# This is our Training code for vit image methods. Please note we cannot uploade the huge dataset in submission so reading the files is not possible here. We can show demo in our system if needed. Also, this training takes a lot of time on PCs, and needs GPUs for training"
   ]
  },
  {
   "cell_type": "code",
   "execution_count": 19,
   "id": "a886f17d-0987-4b9e-a5c0-3857860bb9be",
   "metadata": {},
   "outputs": [],
   "source": [
    "import numpy as np\n",
    "import tensorflow as tf\n",
    "# from transformers import ViTFeatureExtractor, TFViTModel\n",
    "from sklearn.model_selection import train_test_split\n",
    "import cv2\n",
    "import matplotlib.pyplot as plt\n",
    "import pickle\n",
    "import os\n",
    "files=os.listdir(\"/Users/aryanagarwal/Desktop/cv/project/data\")\n",
    "\n",
    "x=[]\n",
    "x_load=[]\n",
    "y=[]\n",
    "y_load=[]\n",
    "\n",
    "N_samples=20000\n",
    "def load_data():\n",
    "    count=0\n",
    "    for file in files:\n",
    "        file=\"/Users/aryanagarwal/Desktop/cv/project/data/\" + file\n",
    "        x=np.load(file)\n",
    "        x=x.astype('float32') / 255. #3 normalizing ins tart itself, as it gets heavie compute later if done on entire array\n",
    "        x=x[0:N_samples,:]\n",
    "        # x=np.array([c.reshape(28,28) for c in x ])\n",
    "        x_load.append(x)\n",
    "        y=[count for _ in range(N_samples)]\n",
    "        count += 1\n",
    "        y=np.array(y).astype('float32')\n",
    "        # y = y.reshape(y.shape[0], 1)\n",
    "        y_load.append(y)\n",
    "    return x_load, y_load\n",
    "\n",
    "features,labels = load_data()\n",
    "features=np.array(features).astype('float32')\n",
    "# fetaures=features.reshape\n",
    "labels = np.array(labels).astype('float32')\n",
    "features=features.reshape(N_samples,len(files),28*28)\n",
    "labels=labels.reshape(N_samples,len(files))"
   ]
  },
  {
   "cell_type": "code",
   "execution_count": null,
   "id": "6292ee48-77b1-41d2-b2e0-e293ea8dfa14",
   "metadata": {},
   "outputs": [],
   "source": []
  },
  {
   "cell_type": "code",
   "execution_count": null,
   "id": "324643dc-18ed-4b1d-853a-d8cd870b25a4",
   "metadata": {},
   "outputs": [],
   "source": []
  },
  {
   "cell_type": "raw",
   "id": "431c379a-da1d-413e-a24e-339c7fe9cc0a",
   "metadata": {},
   "source": []
  },
  {
   "cell_type": "code",
   "execution_count": 9,
   "id": "098eed55-1f01-48f4-9e37-a419c86a9517",
   "metadata": {},
   "outputs": [],
   "source": [
    "from sklearn.model_selection import train_test_split\n",
    "from sklearn.utils import shuffle\n",
    "from keras.layers import Dense,Flatten, Conv2D\n",
    "from keras.layers import MaxPooling2D, Dropout\n",
    "from keras.utils import to_categorical\n",
    "import tensorflow as tf\n",
    "from keras.models import Sequential\n",
    "# def loadFromPickle():\n",
    "#     with open(\"vit/features\", \"rb\") as f:\n",
    "#         features = np.array(pickle.load(f))\n",
    "#     with open(\"vit/labels\", \"rb\") as f:\n",
    "#         labels = np.array(pickle.load(f))\n",
    "#     return features, labels\n",
    "def prepress_labels(labels):\n",
    "    labels = to_categorical(labels)\n",
    "    return labels\n",
    "# # features, labels = loadFromPickle()\n",
    "# # features, labels = augmentData(features, labels)\n",
    "# labels=prepress_labels(labels)\n",
    "# labels=labels.reshape(N_samples,len(files),1)\n",
    "features,labels = shuffle(features, labels)\n",
    "labels=prepress_labels(labels)\n",
    "\n",
    "features2=features.reshape(N_samples,len(files),28,28)\n",
    "train_x,test_x,train_y,test_y = train_test_split(features2, labels, random_state=0,\n",
    "                                                    test_size=0.1)\n",
    "\n",
    "# # Normalize the images (0 to 1)\n",
    "# train_x = train_x / 255.0\n",
    "# test_x = test_x / 255.0\n",
    "\n",
    "print(train_x.shape)\n",
    "print(train_y.shape)\n",
    "print(test_x.shape)\n",
    "print(test_y.shape)\n",
    "\n",
    "train_x2=train_x.reshape(train_x.shape[0]*len(files),28,28)\n",
    "train_y2=train_y.reshape(train_x.shape[0]*len(files),len(files))\n",
    "\n",
    "import tensorflow as tf\n",
    "from tensorflow.keras import layers, models\n",
    "import matplotlib.pyplot as plt"
   ]
  },
  {
   "cell_type": "code",
   "execution_count": 22,
   "id": "12bdc65a-6935-42d7-9d5a-00695122a0b5",
   "metadata": {},
   "outputs": [
    {
     "name": "stdout",
     "output_type": "stream",
     "text": [
      "alarm clock.npy\n"
     ]
    },
    {
     "data": {
      "text/plain": [
       "<matplotlib.image.AxesImage at 0x3170d2bd0>"
      ]
     },
     "execution_count": 22,
     "metadata": {},
     "output_type": "execute_result"
    },
    {
     "data": {
      "image/png": "[encoded data removed]",
      "text/plain": [
       "<Figure size 640x480 with 1 Axes>"
      ]
     },
     "metadata": {},
     "output_type": "display_data"
    }
   ],
   "source": [
    "i=65\n",
    "print(files[labels[i][0].argmax()])\n",
    "plt.imshow(features[i][0].reshape(28,28))\n",
    "# random plotting raining data to see if its loaded correctly"
   ]
  },
  {
   "cell_type": "code",
   "execution_count": 55,
   "id": "b214cb75-0a0d-49bb-9ec2-710f21faec7e",
   "metadata": {},
   "outputs": [
    {
     "name": "stdout",
     "output_type": "stream",
     "text": [
      "alarm clock.npy\n"
     ]
    },
    {
     "data": {
      "text/plain": [
       "<matplotlib.image.AxesImage at 0x3166e60d0>"
      ]
     },
     "execution_count": 55,
     "metadata": {},
     "output_type": "execute_result"
    },
    {
     "data": {
      "image/png": "[encoded data removed]",
      "text/plain": [
       "<Figure size 640x480 with 1 Axes>"
      ]
     },
     "metadata": {},
     "output_type": "display_data"
    }
   ],
   "source": [
    "i=144\n",
    "print(files[train_y2[i].argmax()])\n",
    "plt.imshow(train_x2[i].reshape(28,28))\n",
    "# train data checking"
   ]
  },
  {
   "cell_type": "code",
   "execution_count": 6,
   "id": "a783b5e2-7c18-44fb-8225-49a477f3e1c1",
   "metadata": {},
   "outputs": [],
   "source": []
  },
  {
   "cell_type": "code",
   "execution_count": 7,
   "id": "517f956a-2f3b-4fa5-a313-9a6b504fd76a",
   "metadata": {},
   "outputs": [],
   "source": []
  },
  {
   "cell_type": "code",
   "execution_count": 28,
   "id": "808a312f-7e62-46c1-b287-33be79282676",
   "metadata": {
    "scrolled": true
   },
   "outputs": [],
   "source": [
    "import tensorflow as tf\n",
    "from tensorflow.keras import layers, models\n",
    "\n",
    "# params for training\n",
    "img_size=28  # input img size 28x28)\n",
    "patch_size=4  # size of patch  to be 4x4 for optimal results\n",
    "num_patches=(img_size // patch_size) ** 2  # numb of patches\n",
    "embed_dim=256  # path embded size\n",
    "num_heads=2  #kept less as model parsm sscales heavily with this\n",
    "ff_dim=512  # ffns hidden dims\n",
    "num_transformer_layers=3  # num of transformer layers\n",
    "num_classes=len(files) \n",
    "mlp_units=[512, 256]  # MLP layers after encoder blocks\n",
    "dropout_rate=0.1  # dropout for reglaarinhg\n",
    "\n",
    "# many code is made due to verison mistamatch, hence custom classes are made\n",
    "class PatchEmbed(layers.Layer): # need to make custom patch embed as there is version mismatch in the keras module used to train with tf\n",
    "    def __init__(self, patch_size, embed_dim):\n",
    "        super(PatchEmbed,self).__init__()\n",
    "        self.patch_proj=layers.Conv2D(filters=embed_dim,kernel_size=patch_size,strides=patch_size, padding=\"VALID\")\n",
    "    def call(self,images):\n",
    "        x=self.patch_proj(images) \n",
    "        x=tf.reshape(x,[tf.shape(x)[0],-1,self.patch_proj.filters])\n",
    "        return x\n",
    "\n",
    "# enc block in trandoformer\n",
    "def transformer_encoder(inputs, embed_dim, num_heads, ff_dim, dropout_rate):\n",
    "    #norm 1\n",
    "    x=layers.LayerNormalization(epsilon=1e-6)(inputs)\n",
    "    \n",
    "    # multi head attn\n",
    "    attention_output=layers.MultiHeadAttention(num_heads=num_heads, key_dim=embed_dim)(x, x)\n",
    "    attention_output=layers.Dropout(dropout_rate)(attention_output)\n",
    "    x=layers.Add()([x, attention_output])\n",
    "\n",
    "    x=layers.LayerNormalization(epsilon=1e-6)(x)\n",
    "    \n",
    "    #ffn layers\n",
    "    ffn=layers.Dense(ff_dim, activation=tf.nn.gelu)(x)\n",
    "    ffn=layers.Dense(embed_dim)(ffn)\n",
    "    ffn=layers.Dropout(dropout_rate)(ffn)\n",
    "    \n",
    "    x=layers.Add()([x, ffn]) # keeping some skip conns as we dint want vanishing grad issue\n",
    "    return x\n",
    "\n",
    "# vision=transfomer model\n",
    "def create_vit_classifier(img_size, patch_size,num_classes,embed_dim, num_heads, ff_dim,num_transformer_layers,mlp_units, dropout_rate):\n",
    "    inputs=layers.Input(shape=(img_size, img_size, 1))  # img is greyscale of course as its doodles\n",
    "    x=PatchEmbed(patch_size, embed_dim)(inputs) # path embed\n",
    "    # Ppos embed\n",
    "    positions=tf.range(start=0, limit=num_patches, delta=1)\n",
    "    position_embedding=layers.Embedding(input_dim=num_patches, output_dim=embed_dim)(positions)\n",
    "    x= x + position_embedding\n",
    "    # trsnformer layers\n",
    "    for _ in range(num_transformer_layers):\n",
    "        x=transformer_encoder(x, embed_dim, num_heads, ff_dim, dropout_rate)\n",
    "\n",
    "    # global average pooling\n",
    "    x=layers.LayerNormalization(epsilon=1e-6)(x)\n",
    "    # pooling final output finally to get oine single vector for final classfiction task\n",
    "    x=layers.GlobalAveragePooling1D()(x)\n",
    "    # mlp head\n",
    "    for units in mlp_units:\n",
    "        x=layers.Dense(units, activation=tf.nn.gelu)(x)\n",
    "        x=layers.Dropout(dropout_rate)(x)\n",
    "    # pred layer\n",
    "    outputs=layers.Dense(num_classes, activation=\"softmax\")(x)\n",
    "    model=models.Model(inputs=inputs, outputs=outputs) # model class wrapped\n",
    "    return model\n",
    "\n",
    "# model crewat func udf\n",
    "vit_model=create_vit_classifier(\n",
    "    img_size=img_size,\n",
    "    patch_size=patch_size,\n",
    "    num_classes=num_classes,\n",
    "    embed_dim=embed_dim,\n",
    "    num_heads=num_heads,\n",
    "    ff_dim=ff_dim,\n",
    "    num_transformer_layers=num_transformer_layers,\n",
    "    mlp_units=mlp_units,\n",
    "    dropout_rate=dropout_rate)\n",
    "# keeping callbacks as we wanted to avoid risk of session failure and model not being saved\n",
    "callbacks=[tf.keras.callbacks.EarlyStopping(patience=3,restore_best_weights=True),\n",
    "    tf.keras.callbacks.ReduceLROnPlateau(factor=0.5,patience=2)]\n",
    "vit_model.compile(\n",
    "    optimizer=tf.keras.optimizers.Adam(learning_rate=3e-4), # keeping small lr\n",
    "    loss=\"categorical_crossentropy\",\n",
    "    metrics=[\"accuracy\"]\n",
    ")\n"
   ]
  },
  {
   "cell_type": "code",
   "execution_count": 29,
   "id": "63bb3fd0-50de-4cc1-939f-7d05520cedf9",
   "metadata": {
    "scrolled": true
   },
   "outputs": [
    {
     "name": "stdout",
     "output_type": "stream",
     "text": [
      "Epoch 1/10\n",
      "\u001b[1m792/792\u001b[0m \u001b[32m━━━━━━━━━━━━━━━━━━━━\u001b[0m\u001b[37m\u001b[0m \u001b[1m661s\u001b[0m 831ms/step - accuracy: 0.3317 - loss: 2.1877 - val_accuracy: 0.5862 - val_loss: 1.3504 - learning_rate: 3.0000e-04\n",
      "Epoch 2/10\n",
      "\u001b[1m792/792\u001b[0m \u001b[32m━━━━━━━━━━━━━━━━━━━━\u001b[0m\u001b[37m\u001b[0m \u001b[1m674s\u001b[0m 850ms/step - accuracy: 0.6205 - loss: 1.2423 - val_accuracy: 0.6717 - val_loss: 1.0732 - learning_rate: 3.0000e-04\n",
      "Epoch 3/10\n",
      "\u001b[1m792/792\u001b[0m \u001b[32m━━━━━━━━━━━━━━━━━━━━\u001b[0m\u001b[37m\u001b[0m \u001b[1m683s\u001b[0m 863ms/step - accuracy: 0.6903 - loss: 1.0060 - val_accuracy: 0.6946 - val_loss: 0.9930 - learning_rate: 3.0000e-04\n",
      "Epoch 4/10\n",
      "\u001b[1m792/792\u001b[0m \u001b[32m━━━━━━━━━━━━━━━━━━━━\u001b[0m\u001b[37m\u001b[0m \u001b[1m679s\u001b[0m 857ms/step - accuracy: 0.7281 - loss: 0.8825 - val_accuracy: 0.6920 - val_loss: 1.0791 - learning_rate: 3.0000e-04\n",
      "Epoch 5/10\n",
      "\u001b[1m792/792\u001b[0m \u001b[32m━━━━━━━━━━━━━━━━━━━━\u001b[0m\u001b[37m\u001b[0m \u001b[1m664s\u001b[0m 839ms/step - accuracy: 0.7416 - loss: 0.8422 - val_accuracy: 0.7430 - val_loss: 0.8448 - learning_rate: 3.0000e-04\n",
      "Epoch 6/10\n",
      "\u001b[1m792/792\u001b[0m \u001b[32m━━━━━━━━━━━━━━━━━━━━\u001b[0m\u001b[37m\u001b[0m \u001b[1m659s\u001b[0m 832ms/step - accuracy: 0.7677 - loss: 0.7572 - val_accuracy: 0.7620 - val_loss: 0.7796 - learning_rate: 3.0000e-04\n",
      "Epoch 7/10\n",
      "\u001b[1m792/792\u001b[0m \u001b[32m━━━━━━━━━━━━━━━━━━━━\u001b[0m\u001b[37m\u001b[0m \u001b[1m679s\u001b[0m 857ms/step - accuracy: 0.7858 - loss: 0.6966 - val_accuracy: 0.7597 - val_loss: 0.8038 - learning_rate: 3.0000e-04\n",
      "Epoch 8/10\n",
      "\u001b[1m792/792\u001b[0m \u001b[32m━━━━━━━━━━━━━━━━━━━━\u001b[0m\u001b[37m\u001b[0m \u001b[1m693s\u001b[0m 875ms/step - accuracy: 0.7940 - loss: 0.6599 - val_accuracy: 0.7692 - val_loss: 0.7758 - learning_rate: 3.0000e-04\n",
      "Epoch 9/10\n",
      "\u001b[1m792/792\u001b[0m \u001b[32m━━━━━━━━━━━━━━━━━━━━\u001b[0m\u001b[37m\u001b[0m \u001b[1m753s\u001b[0m 951ms/step - accuracy: 0.8024 - loss: 0.6294 - val_accuracy: 0.7853 - val_loss: 0.7032 - learning_rate: 3.0000e-04\n",
      "Epoch 10/10\n",
      "\u001b[1m792/792\u001b[0m \u001b[32m━━━━━━━━━━━━━━━━━━━━\u001b[0m\u001b[37m\u001b[0m \u001b[1m777s\u001b[0m 981ms/step - accuracy: 0.8208 - loss: 0.5627 - val_accuracy: 0.7871 - val_loss: 0.7124 - learning_rate: 3.0000e-04\n"
     ]
    }
   ],
   "source": [
    "hist=vit_model.fit(train_x2,train_y2,batch_size=128,epochs=10,validation_split=0.1,callbacks=callbacks)"
   ]
  },
  {
   "cell_type": "code",
   "execution_count": null,
   "id": "a0ab312d-16de-4554-a6e7-75446e82c40b",
   "metadata": {},
   "outputs": [],
   "source": []
  },
  {
   "cell_type": "code",
   "execution_count": 31,
   "id": "9f38ad61-31ba-4468-8d2c-be8cf8568b29",
   "metadata": {},
   "outputs": [],
   "source": [
    "vit_model.save('vit_copy_1_model.keras')"
   ]
  },
  {
   "cell_type": "code",
   "execution_count": 32,
   "id": "fb683224-74cd-402c-beef-59a76118429a",
   "metadata": {},
   "outputs": [
    {
     "name": "stdout",
     "output_type": "stream",
     "text": [
      "\u001b[1m391/391\u001b[0m \u001b[32m━━━━━━━━━━━━━━━━━━━━\u001b[0m\u001b[37m\u001b[0m \u001b[1m25s\u001b[0m 63ms/step - accuracy: 0.7914 - loss: 0.6884\n",
      "Test Loss: 0.6960\n",
      "Test Accuracy: 78.10%\n"
     ]
    }
   ],
   "source": [
    "# test\n",
    "test_x2=test_x.reshape(test_x.shape[0]*len(files),28,28)\n",
    "test_y2=test_y.reshape(test_y.shape[0]*len(files),len(files))\n",
    "test_loss,test_accuracy=vit_model.evaluate(test_x2,test_y2)\n",
    "print(f\"Test Loss: {test_loss:.4f}\") #3 printing vls\n",
    "print(f\"Test Accuracy: {test_accuracy*100:.2f}%\")"
   ]
  },
  {
   "cell_type": "code",
   "execution_count": null,
   "id": "ca586f17-dfec-4d2c-a61e-5d609d3879ae",
   "metadata": {},
   "outputs": [],
   "source": []
  }
 ],
 "metadata": {
  "kernelspec": {
   "display_name": "Python new_env_tf~",
   "language": "python",
   "name": "new_env_tf"
  },
  "language_info": {
   "codemirror_mode": {
    "name": "ipython",
    "version": 3
   },
   "file_extension": ".py",
   "mimetype": "text/x-python",
   "name": "python",
   "nbconvert_exporter": "python",
   "pygments_lexer": "ipython3",
   "version": "3.11.7"
  }
 },
 "nbformat": 4,
 "nbformat_minor": 5
}
